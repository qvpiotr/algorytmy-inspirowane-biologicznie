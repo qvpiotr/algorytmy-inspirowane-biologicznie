{
 "cells": [
  {
   "cell_type": "markdown",
   "metadata": {},
   "source": [
    "## Potrzebne importy"
   ]
  },
  {
   "cell_type": "code",
   "execution_count": 134,
   "metadata": {},
   "outputs": [],
   "source": [
    "import numpy as np\n",
    "import pandas as pd\n",
    "import csv\n",
    "import datetime\n",
    "import os"
   ]
  },
  {
   "cell_type": "markdown",
   "metadata": {},
   "source": [
    "# **Dane o zużyciu energii**"
   ]
  },
  {
   "cell_type": "markdown",
   "metadata": {},
   "source": [
    "## Funkcja przygotowująca dane o zużyciu energii z PSE"
   ]
  },
  {
   "cell_type": "code",
   "execution_count": 135,
   "metadata": {},
   "outputs": [],
   "source": [
    "def prepare_energy_data(filename):\n",
    "    df = pd.read_csv(filename,sep = ';')\n",
    "    df['Data']= pd.to_datetime(df['Data'],format='%Y%m%d')\n",
    "    \n",
    "    if(df['Dobowa prognoza zapotrzebowania KSE'].dtype != int):\n",
    "        df['Dobowa prognoza zapotrzebowania KSE'] = df['Dobowa prognoza zapotrzebowania KSE'].str.replace(',', '.')\n",
    "        df['Dobowa prognoza zapotrzebowania KSE'] = pd.to_numeric(df['Dobowa prognoza zapotrzebowania KSE'],errors='coerce')\n",
    "        \n",
    "    df['Rzeczywiste zapotrzebowanie KSE'] = df['Rzeczywiste zapotrzebowanie KSE'].str.replace(',', '.')\n",
    "    df['Rzeczywiste zapotrzebowanie KSE'] = pd.to_numeric(df['Rzeczywiste zapotrzebowanie KSE'],errors='coerce')\n",
    "    \n",
    "    df_daily = df.groupby(\"Data\",sort=False)[['Dobowa prognoza zapotrzebowania KSE','Rzeczywiste zapotrzebowanie KSE']].mean().reset_index()\n",
    "\n",
    "    return df,df_daily"
   ]
  },
  {
   "cell_type": "markdown",
   "metadata": {},
   "source": [
    "## Wykonanie funkcji na wszystkich danych i połączenie ich w nowy dataframe"
   ]
  },
  {
   "cell_type": "code",
   "execution_count": 136,
   "metadata": {},
   "outputs": [],
   "source": [
    "hourly = pd.DataFrame(columns = ['Data', 'Godz.','Dobowa prognoza zapotrzebowania KSE', 'Rzeczywiste zapotrzebowanie KSE'])\n",
    "daily = pd.DataFrame(columns = ['Data','Dobowa prognoza zapotrzebowania KSE', 'Rzeczywiste zapotrzebowanie KSE'])\n",
    "\n",
    "cwd = os.getcwd()\n",
    "directory = os.path.join(cwd,\"energy_consumption_data\")\n",
    "\n",
    "for d in os.listdir(directory):\n",
    "    path = os.path.join(directory,d)\n",
    "    if os.path.isfile(path) and path.endswith(\".csv\"):\n",
    "        df, df_daily = prepare_energy_data(path)\n",
    "        hourly = pd.concat([hourly,df])\n",
    "        daily = pd.concat([daily,df_daily])\n",
    "            "
   ]
  },
  {
   "cell_type": "markdown",
   "metadata": {},
   "source": [
    "## Podział danych do dwóch plików CSV: energy_daily.csv i energy_hourly.csv"
   ]
  },
  {
   "cell_type": "code",
   "execution_count": 137,
   "metadata": {},
   "outputs": [],
   "source": [
    "hourly = hourly.sort_values(by=\"Data\")\n",
    "hourly = hourly.round(2)\n",
    "\n",
    "daily = daily.sort_values(by=\"Data\")\n",
    "daily = daily.round(2)\n",
    "\n",
    "\n",
    "hourly.to_csv('energy_hourly.csv', index=False)\n",
    "daily.to_csv('energy_daily.csv', index=False)"
   ]
  },
  {
   "cell_type": "markdown",
   "metadata": {},
   "source": [
    "<br>"
   ]
  },
  {
   "cell_type": "markdown",
   "metadata": {},
   "source": [
    "# **Dane pogodowe**"
   ]
  },
  {
   "cell_type": "markdown",
   "metadata": {},
   "source": [
    "## Funkcja przygotowująca dane o pogodzie"
   ]
  },
  {
   "cell_type": "code",
   "execution_count": 138,
   "metadata": {},
   "outputs": [],
   "source": [
    "def prepare_weather_data(filename):\n",
    "    with open(filename, 'r',encoding='utf-8', errors='ignore') as file:\n",
    "        data = file.read().replace('\"', '')\n",
    "    with open(filename,'w',encoding='utf-8', errors='ignore') as file:\n",
    "        file.write(data)\n",
    "        \n",
    "    # wczytanie danych i rename column\n",
    "    df = pd.read_csv(filename,sep = ',',header = None)\n",
    "    df = df.rename(columns={0: 'id', 1: 'station',2: 'year',3: 'month', 4: 'day', 5: 'Temperatura',\n",
    "                   6: 'del1',7: 'Wilogtność powietrza',8: 'del2',9: 'Prędkość wiatru',10: 'del3',11: 'Zachmurzenie',12: 'del4'})\n",
    "\n",
    "    # połączenie daty\n",
    "    cols=[\"year\",\"month\",\"day\"]\n",
    "    df['Data'] = df[cols].apply(lambda x: '-'.join(x.values.astype(str)), axis=\"columns\")\n",
    "    \n",
    "    # usunięcie niepotrzebnych kolumn\n",
    "    df = df.drop(columns=['id','station', 'del1','del2','del3','del4','year','day','month']) \n",
    "    \n",
    "    # czyszczenie i grupowanie danych\n",
    "#     df[\"temperature\"] = df[\"temperature\"].replace(0.0,np.nan)\n",
    "    df[\"Zachmurzenie\"] = df[\"Zachmurzenie\"].replace(0.0,np.nan)\n",
    "#     df[\"wind_speed\"] = df[\"wind_speed\"].replace(0.0,np.nan)\n",
    "#     df[\"cloudiness\"] = df[\"cloudiness\"].replace(0.0,np.nan)\n",
    "    df = df.groupby(\"Data\",sort=False)[['Data', 'Temperatura','Wilogtność powietrza', 'Prędkość wiatru', 'Zachmurzenie']].mean().reset_index()\n",
    "    \n",
    "    return df"
   ]
  },
  {
   "cell_type": "markdown",
   "metadata": {},
   "source": [
    "## Wykonanie funkcji na wszystkich danych i połączenie ich w nowy dataframe"
   ]
  },
  {
   "cell_type": "code",
   "execution_count": 139,
   "metadata": {},
   "outputs": [],
   "source": [
    "main = pd.DataFrame(columns = ['Data', 'Temperatura','Wilogtność powietrza', 'Prędkość wiatru', 'Zachmurzenie'])\n",
    "\n",
    "# dane pochodzą z: https://danepubliczne.imgw.pl/data/dane_pomiarowo_obserwacyjne/\n",
    "\n",
    "cwd = os.getcwd()\n",
    "directory = os.path.join(cwd,\"weather_data\")\n",
    "\n",
    "for d in os.listdir(directory):\n",
    "    path = os.path.join(directory,d)\n",
    "    if os.path.isdir(path) and not path.startswith('.') and  not path.startswith('..'):\n",
    "        for filename in os.listdir(os.path.join(directory,path)):\n",
    "            if filename.endswith(\".csv\") and filename.startswith(\"k_d_t_\") and filename != 'out.csv':\n",
    "                df = prepare_weather_data(os.path.join(path,filename))\n",
    "                main = pd.concat([main,df])"
   ]
  },
  {
   "cell_type": "markdown",
   "metadata": {},
   "source": [
    "## Dodatkowe czyszczenie danych i zapis do pliku weather.csv"
   ]
  },
  {
   "cell_type": "code",
   "execution_count": 140,
   "metadata": {},
   "outputs": [],
   "source": [
    "main['Data'] = pd.to_datetime(main[\"Data\"])\n",
    "main = main.sort_values(by=\"Data\")\n",
    "main = main.round(2)\n",
    "\n",
    "start_date = '2015-01-01'\n",
    "end_date = '2021-01-31'\n",
    "\n",
    "mask = (main['Data'] >= start_date) & (main['Data'] <= end_date)\n",
    "\n",
    "main = main.loc[mask]\n",
    "\n",
    "main.to_csv('weather.csv', index=False)"
   ]
  },
  {
   "cell_type": "markdown",
   "metadata": {},
   "source": [
    "# Stworzenie dodatkowego pliku z dziennymi danymi"
   ]
  },
  {
   "cell_type": "code",
   "execution_count": 141,
   "metadata": {},
   "outputs": [],
   "source": [
    "main['Dobowa prognoza zapotrzebowania KSE'] = daily['Dobowa prognoza zapotrzebowania KSE'].values\n",
    "main['Rzeczywiste zapotrzebowanie KSE'] = daily['Rzeczywiste zapotrzebowanie KSE'].values"
   ]
  },
  {
   "cell_type": "code",
   "execution_count": 142,
   "metadata": {},
   "outputs": [
    {
     "data": {
      "text/html": [
       "<div>\n",
       "<style scoped>\n",
       "    .dataframe tbody tr th:only-of-type {\n",
       "        vertical-align: middle;\n",
       "    }\n",
       "\n",
       "    .dataframe tbody tr th {\n",
       "        vertical-align: top;\n",
       "    }\n",
       "\n",
       "    .dataframe thead th {\n",
       "        text-align: right;\n",
       "    }\n",
       "</style>\n",
       "<table border=\"1\" class=\"dataframe\">\n",
       "  <thead>\n",
       "    <tr style=\"text-align: right;\">\n",
       "      <th></th>\n",
       "      <th>Data</th>\n",
       "      <th>Temperatura</th>\n",
       "      <th>Wilogtność powietrza</th>\n",
       "      <th>Prędkość wiatru</th>\n",
       "      <th>Zachmurzenie</th>\n",
       "      <th>Dobowa prognoza zapotrzebowania KSE</th>\n",
       "      <th>Rzeczywiste zapotrzebowanie KSE</th>\n",
       "    </tr>\n",
       "  </thead>\n",
       "  <tbody>\n",
       "    <tr>\n",
       "      <th>0</th>\n",
       "      <td>2015-01-01</td>\n",
       "      <td>-0.77</td>\n",
       "      <td>31.80</td>\n",
       "      <td>1.34</td>\n",
       "      <td>7.57</td>\n",
       "      <td>NaN</td>\n",
       "      <td>15098.40</td>\n",
       "    </tr>\n",
       "    <tr>\n",
       "      <th>1</th>\n",
       "      <td>2015-01-02</td>\n",
       "      <td>1.27</td>\n",
       "      <td>29.94</td>\n",
       "      <td>2.47</td>\n",
       "      <td>6.83</td>\n",
       "      <td>17822.96</td>\n",
       "      <td>17869.20</td>\n",
       "    </tr>\n",
       "    <tr>\n",
       "      <th>2</th>\n",
       "      <td>2015-01-03</td>\n",
       "      <td>1.87</td>\n",
       "      <td>28.00</td>\n",
       "      <td>2.80</td>\n",
       "      <td>6.95</td>\n",
       "      <td>17639.33</td>\n",
       "      <td>17684.92</td>\n",
       "    </tr>\n",
       "    <tr>\n",
       "      <th>3</th>\n",
       "      <td>2015-01-04</td>\n",
       "      <td>0.42</td>\n",
       "      <td>28.89</td>\n",
       "      <td>2.79</td>\n",
       "      <td>6.27</td>\n",
       "      <td>16235.42</td>\n",
       "      <td>16453.76</td>\n",
       "    </tr>\n",
       "    <tr>\n",
       "      <th>4</th>\n",
       "      <td>2015-01-05</td>\n",
       "      <td>-1.03</td>\n",
       "      <td>29.75</td>\n",
       "      <td>1.91</td>\n",
       "      <td>6.05</td>\n",
       "      <td>18892.71</td>\n",
       "      <td>18856.44</td>\n",
       "    </tr>\n",
       "  </tbody>\n",
       "</table>\n",
       "</div>"
      ],
      "text/plain": [
       "        Data  Temperatura  Wilogtność powietrza  Prędkość wiatru  \\\n",
       "0 2015-01-01        -0.77                 31.80             1.34   \n",
       "1 2015-01-02         1.27                 29.94             2.47   \n",
       "2 2015-01-03         1.87                 28.00             2.80   \n",
       "3 2015-01-04         0.42                 28.89             2.79   \n",
       "4 2015-01-05        -1.03                 29.75             1.91   \n",
       "\n",
       "   Zachmurzenie  Dobowa prognoza zapotrzebowania KSE  \\\n",
       "0          7.57                                  NaN   \n",
       "1          6.83                             17822.96   \n",
       "2          6.95                             17639.33   \n",
       "3          6.27                             16235.42   \n",
       "4          6.05                             18892.71   \n",
       "\n",
       "   Rzeczywiste zapotrzebowanie KSE  \n",
       "0                         15098.40  \n",
       "1                         17869.20  \n",
       "2                         17684.92  \n",
       "3                         16453.76  \n",
       "4                         18856.44  "
      ]
     },
     "execution_count": 142,
     "metadata": {},
     "output_type": "execute_result"
    }
   ],
   "source": [
    "main.head()"
   ]
  },
  {
   "cell_type": "code",
   "execution_count": 143,
   "metadata": {},
   "outputs": [],
   "source": [
    "main.to_csv('daily_weather_and_energy_consumption.csv', index=False)"
   ]
  }
 ],
 "metadata": {
  "kernelspec": {
   "display_name": "Python 3",
   "language": "python",
   "name": "python3"
  },
  "language_info": {
   "codemirror_mode": {
    "name": "ipython",
    "version": 3
   },
   "file_extension": ".py",
   "mimetype": "text/x-python",
   "name": "python",
   "nbconvert_exporter": "python",
   "pygments_lexer": "ipython3",
   "version": "3.8.5"
  }
 },
 "nbformat": 4,
 "nbformat_minor": 4
}
