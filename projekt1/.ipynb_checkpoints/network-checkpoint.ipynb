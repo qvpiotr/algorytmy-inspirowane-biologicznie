{
 "cells": [
  {
   "cell_type": "markdown",
   "id": "5eb7d8a4-daa6-49fc-b94f-b64943945019",
   "metadata": {},
   "source": [
    "# Przewidywanie zużycia energii z tensorflow 2.4"
   ]
  },
  {
   "cell_type": "markdown",
   "id": "a6679671-cb25-4a7b-9f77-5cac3c2ef74b",
   "metadata": {},
   "source": [
    "Progres bar print "
   ]
  },
  {
   "cell_type": "code",
   "execution_count": 254,
   "id": "1d3d3ac4-19c9-4374-a150-bd6848d17a53",
   "metadata": {},
   "outputs": [],
   "source": [
    "def printProgressBar (iteration, total, prefix = '', suffix = '', decimals = 1, length = 100, fill = '█', printEnd = \"\\r\"):\n",
    "    \"\"\"\n",
    "    Call in a loop to create terminal progress bar\n",
    "    @params:\n",
    "        iteration   - Required  : current iteration (Int)\n",
    "        total       - Required  : total iterations (Int)\n",
    "        prefix      - Optional  : prefix string (Str)\n",
    "        suffix      - Optional  : suffix string (Str)\n",
    "        decimals    - Optional  : positive number of decimals in percent complete (Int)\n",
    "        length      - Optional  : character length of bar (Int)\n",
    "        fill        - Optional  : bar fill character (Str)\n",
    "        printEnd    - Optional  : end character (e.g. \"\\r\", \"\\r\\n\") (Str)\n",
    "    \"\"\"\n",
    "    percent = (\"{0:.\" + str(decimals) + \"f}\").format(100 * (iteration / float(total)))\n",
    "    filledLength = int(length * iteration // total)\n",
    "    bar = fill * filledLength + '-' * (length - filledLength)\n",
    "    print(f'\\r{prefix} |{bar}| {percent}% {suffix}', end = printEnd)\n",
    "    # Print New Line on Complete\n",
    "    if iteration == total: \n",
    "        print()"
   ]
  },
  {
   "cell_type": "markdown",
   "id": "85eeb5ea-1de7-4bd0-9448-736f16facef7",
   "metadata": {},
   "source": [
    "### Niezbędne biblioteki"
   ]
  },
  {
   "cell_type": "code",
   "execution_count": 1,
   "id": "35d94d04-bfd0-4b0d-a578-bbf462ffd2ec",
   "metadata": {},
   "outputs": [],
   "source": [
    "import os\n",
    "import sys\n",
    "os.environ['TF_CPP_MIN_LOG_LEVEL'] = '3'"
   ]
  },
  {
   "cell_type": "code",
   "execution_count": 127,
   "id": "0361b767-f4fa-4428-9b98-33b3286d2538",
   "metadata": {},
   "outputs": [],
   "source": [
    "from datetime import datetime\n",
    "import matplotlib.pyplot as plt"
   ]
  },
  {
   "cell_type": "code",
   "execution_count": 3,
   "id": "63e740e0-b674-4f80-8461-a2c3a361060c",
   "metadata": {},
   "outputs": [],
   "source": [
    "import tensorflow as tf\n",
    "import numpy as np\n",
    "import pandas as pd\n",
    "from sklearn import preprocessing"
   ]
  },
  {
   "cell_type": "markdown",
   "id": "84e91425-fe79-415f-8828-f20ebe612b09",
   "metadata": {},
   "source": [
    "### Importowanie danych"
   ]
  },
  {
   "cell_type": "code",
   "execution_count": 4,
   "id": "7a97c9bf-b17b-4d69-9f99-f9be7859c751",
   "metadata": {},
   "outputs": [],
   "source": [
    "data_date = pd.read_csv(\"daily_weather_and_energy_consumption.csv\")"
   ]
  },
  {
   "cell_type": "code",
   "execution_count": 5,
   "id": "76482b1c-142c-4b78-b781-cf571b0ed6f3",
   "metadata": {},
   "outputs": [
    {
     "data": {
      "text/html": [
       "<div>\n",
       "<style scoped>\n",
       "    .dataframe tbody tr th:only-of-type {\n",
       "        vertical-align: middle;\n",
       "    }\n",
       "\n",
       "    .dataframe tbody tr th {\n",
       "        vertical-align: top;\n",
       "    }\n",
       "\n",
       "    .dataframe thead th {\n",
       "        text-align: right;\n",
       "    }\n",
       "</style>\n",
       "<table border=\"1\" class=\"dataframe\">\n",
       "  <thead>\n",
       "    <tr style=\"text-align: right;\">\n",
       "      <th></th>\n",
       "      <th>Data</th>\n",
       "      <th>Temperatura</th>\n",
       "      <th>Wilogtność powietrza</th>\n",
       "      <th>Prędkość wiatru</th>\n",
       "      <th>Zachmurzenie</th>\n",
       "      <th>Dobowa prognoza zapotrzebowania KSE</th>\n",
       "      <th>Rzeczywiste zapotrzebowanie KSE</th>\n",
       "    </tr>\n",
       "  </thead>\n",
       "  <tbody>\n",
       "    <tr>\n",
       "      <th>0</th>\n",
       "      <td>2015-01-01</td>\n",
       "      <td>-0.77</td>\n",
       "      <td>31.80</td>\n",
       "      <td>1.34</td>\n",
       "      <td>7.57</td>\n",
       "      <td>NaN</td>\n",
       "      <td>15098.40</td>\n",
       "    </tr>\n",
       "    <tr>\n",
       "      <th>1</th>\n",
       "      <td>2015-01-02</td>\n",
       "      <td>1.27</td>\n",
       "      <td>29.94</td>\n",
       "      <td>2.47</td>\n",
       "      <td>6.83</td>\n",
       "      <td>17822.96</td>\n",
       "      <td>17869.20</td>\n",
       "    </tr>\n",
       "    <tr>\n",
       "      <th>2</th>\n",
       "      <td>2015-01-03</td>\n",
       "      <td>1.87</td>\n",
       "      <td>28.00</td>\n",
       "      <td>2.80</td>\n",
       "      <td>6.95</td>\n",
       "      <td>17639.33</td>\n",
       "      <td>17684.92</td>\n",
       "    </tr>\n",
       "    <tr>\n",
       "      <th>3</th>\n",
       "      <td>2015-01-04</td>\n",
       "      <td>0.42</td>\n",
       "      <td>28.89</td>\n",
       "      <td>2.79</td>\n",
       "      <td>6.27</td>\n",
       "      <td>16235.42</td>\n",
       "      <td>16453.76</td>\n",
       "    </tr>\n",
       "    <tr>\n",
       "      <th>4</th>\n",
       "      <td>2015-01-05</td>\n",
       "      <td>-1.03</td>\n",
       "      <td>29.75</td>\n",
       "      <td>1.91</td>\n",
       "      <td>6.05</td>\n",
       "      <td>18892.71</td>\n",
       "      <td>18856.44</td>\n",
       "    </tr>\n",
       "  </tbody>\n",
       "</table>\n",
       "</div>"
      ],
      "text/plain": [
       "         Data  Temperatura  Wilogtność powietrza  Prędkość wiatru  \\\n",
       "0  2015-01-01        -0.77                 31.80             1.34   \n",
       "1  2015-01-02         1.27                 29.94             2.47   \n",
       "2  2015-01-03         1.87                 28.00             2.80   \n",
       "3  2015-01-04         0.42                 28.89             2.79   \n",
       "4  2015-01-05        -1.03                 29.75             1.91   \n",
       "\n",
       "   Zachmurzenie  Dobowa prognoza zapotrzebowania KSE  \\\n",
       "0          7.57                                  NaN   \n",
       "1          6.83                             17822.96   \n",
       "2          6.95                             17639.33   \n",
       "3          6.27                             16235.42   \n",
       "4          6.05                             18892.71   \n",
       "\n",
       "   Rzeczywiste zapotrzebowanie KSE  \n",
       "0                         15098.40  \n",
       "1                         17869.20  \n",
       "2                         17684.92  \n",
       "3                         16453.76  \n",
       "4                         18856.44  "
      ]
     },
     "execution_count": 5,
     "metadata": {},
     "output_type": "execute_result"
    }
   ],
   "source": [
    "data_date.head()"
   ]
  },
  {
   "cell_type": "markdown",
   "id": "81b88047-783f-4b14-ac68-8f6025bb9990",
   "metadata": {},
   "source": [
    "Jako, że zapotrzebowanie intuicyjnie może zależeć od miesiąca (grudzień vs czerwiec), ale nie od samego roku (np. 2016 bo sama ta informacja nie wystarcza, żeby coś wnioskować), zamieniam kolumnę <b>Data</b> na procent roku (co koreluje z porą roku)"
   ]
  },
  {
   "cell_type": "code",
   "execution_count": 6,
   "id": "2d5a51c0-cb1d-4421-887f-bc3d87fcffb2",
   "metadata": {},
   "outputs": [],
   "source": [
    "def date_to_double(dateS, form):\n",
    "    d = datetime.strptime(dateS, form)\n",
    "    \n",
    "    beg = datetime(d.year,1,1,0,0,0)\n",
    "    end = datetime(d.year,12,31,23,59,59)\n",
    "    \n",
    "    sec = (d-beg).total_seconds()\n",
    "    \n",
    "    return sec / (end-beg).total_seconds()"
   ]
  },
  {
   "cell_type": "code",
   "execution_count": 7,
   "id": "d945a7fb-d5e2-4460-adeb-d2298e39e5a4",
   "metadata": {},
   "outputs": [
    {
     "data": {
      "text/html": [
       "<div>\n",
       "<style scoped>\n",
       "    .dataframe tbody tr th:only-of-type {\n",
       "        vertical-align: middle;\n",
       "    }\n",
       "\n",
       "    .dataframe tbody tr th {\n",
       "        vertical-align: top;\n",
       "    }\n",
       "\n",
       "    .dataframe thead th {\n",
       "        text-align: right;\n",
       "    }\n",
       "</style>\n",
       "<table border=\"1\" class=\"dataframe\">\n",
       "  <thead>\n",
       "    <tr style=\"text-align: right;\">\n",
       "      <th></th>\n",
       "      <th>Data</th>\n",
       "      <th>Temperatura</th>\n",
       "      <th>Wilogtność powietrza</th>\n",
       "      <th>Prędkość wiatru</th>\n",
       "      <th>Zachmurzenie</th>\n",
       "      <th>Rzeczywiste zapotrzebowanie KSE</th>\n",
       "    </tr>\n",
       "  </thead>\n",
       "  <tbody>\n",
       "    <tr>\n",
       "      <th>0</th>\n",
       "      <td>0.000000</td>\n",
       "      <td>-0.77</td>\n",
       "      <td>31.80</td>\n",
       "      <td>1.34</td>\n",
       "      <td>7.57</td>\n",
       "      <td>15098.40</td>\n",
       "    </tr>\n",
       "    <tr>\n",
       "      <th>1</th>\n",
       "      <td>0.002740</td>\n",
       "      <td>1.27</td>\n",
       "      <td>29.94</td>\n",
       "      <td>2.47</td>\n",
       "      <td>6.83</td>\n",
       "      <td>17869.20</td>\n",
       "    </tr>\n",
       "    <tr>\n",
       "      <th>2</th>\n",
       "      <td>0.005479</td>\n",
       "      <td>1.87</td>\n",
       "      <td>28.00</td>\n",
       "      <td>2.80</td>\n",
       "      <td>6.95</td>\n",
       "      <td>17684.92</td>\n",
       "    </tr>\n",
       "    <tr>\n",
       "      <th>3</th>\n",
       "      <td>0.008219</td>\n",
       "      <td>0.42</td>\n",
       "      <td>28.89</td>\n",
       "      <td>2.79</td>\n",
       "      <td>6.27</td>\n",
       "      <td>16453.76</td>\n",
       "    </tr>\n",
       "    <tr>\n",
       "      <th>4</th>\n",
       "      <td>0.010959</td>\n",
       "      <td>-1.03</td>\n",
       "      <td>29.75</td>\n",
       "      <td>1.91</td>\n",
       "      <td>6.05</td>\n",
       "      <td>18856.44</td>\n",
       "    </tr>\n",
       "  </tbody>\n",
       "</table>\n",
       "</div>"
      ],
      "text/plain": [
       "       Data  Temperatura  Wilogtność powietrza  Prędkość wiatru  Zachmurzenie  \\\n",
       "0  0.000000        -0.77                 31.80             1.34          7.57   \n",
       "1  0.002740         1.27                 29.94             2.47          6.83   \n",
       "2  0.005479         1.87                 28.00             2.80          6.95   \n",
       "3  0.008219         0.42                 28.89             2.79          6.27   \n",
       "4  0.010959        -1.03                 29.75             1.91          6.05   \n",
       "\n",
       "   Rzeczywiste zapotrzebowanie KSE  \n",
       "0                         15098.40  \n",
       "1                         17869.20  \n",
       "2                         17684.92  \n",
       "3                         16453.76  \n",
       "4                         18856.44  "
      ]
     },
     "execution_count": 7,
     "metadata": {},
     "output_type": "execute_result"
    }
   ],
   "source": [
    "data = data_date.copy()\n",
    "data[\"Data\"] = data[\"Data\"].map(lambda d: date_to_double(d, \"%Y-%m-%d\"))\n",
    "data = data.drop(['Dobowa prognoza zapotrzebowania KSE'], axis=1)\n",
    "\n",
    "data.dropna()\n",
    "data.head()"
   ]
  },
  {
   "cell_type": "markdown",
   "id": "021c93fb-51c4-4b5d-bb4f-6f6c2a19ca8c",
   "metadata": {},
   "source": [
    "Dane należy podzielić na dane wejściowe i wyjściowe"
   ]
  },
  {
   "cell_type": "code",
   "execution_count": 334,
   "id": "33022ad8-1b5a-4d17-b6f9-416bdf05999e",
   "metadata": {},
   "outputs": [],
   "source": [
    "features = data_norm.loc[0:,'Data':'Zachmurzenie']\n",
    "labels   = data_norm.loc[0:, 'Rzeczywiste zapotrzebowanie KSE']"
   ]
  },
  {
   "cell_type": "markdown",
   "id": "97de6f13-6308-481d-95dd-f6aec4766f9d",
   "metadata": {},
   "source": [
    "oraz na zbiór uczący i zbiór testowy"
   ]
  },
  {
   "cell_type": "code",
   "execution_count": 378,
   "id": "70a809df-bd9a-4864-b773-0956d3f2771d",
   "metadata": {},
   "outputs": [],
   "source": [
    "features_train = features.sample(frac=0.8, random_state=200)\n",
    "features_test  = features.drop(features_train.index).reset_index(drop=True)\n",
    "\n",
    "labels_train   = labels.sample(frac=0.8, random_state=200)\n",
    "labels_test    = labels.drop(labels_train.index).reset_index(drop=True)"
   ]
  },
  {
   "cell_type": "code",
   "execution_count": 336,
   "id": "8b9585b0-0cad-41cf-b6cb-08506eb3d073",
   "metadata": {},
   "outputs": [
    {
     "data": {
      "text/html": [
       "<div>\n",
       "<style scoped>\n",
       "    .dataframe tbody tr th:only-of-type {\n",
       "        vertical-align: middle;\n",
       "    }\n",
       "\n",
       "    .dataframe tbody tr th {\n",
       "        vertical-align: top;\n",
       "    }\n",
       "\n",
       "    .dataframe thead th {\n",
       "        text-align: right;\n",
       "    }\n",
       "</style>\n",
       "<table border=\"1\" class=\"dataframe\">\n",
       "  <thead>\n",
       "    <tr style=\"text-align: right;\">\n",
       "      <th></th>\n",
       "      <th>Data</th>\n",
       "      <th>Temperatura</th>\n",
       "      <th>Wilogtność powietrza</th>\n",
       "      <th>Prędkość wiatru</th>\n",
       "      <th>Zachmurzenie</th>\n",
       "    </tr>\n",
       "  </thead>\n",
       "  <tbody>\n",
       "    <tr>\n",
       "      <th>0</th>\n",
       "      <td>0.000000</td>\n",
       "      <td>-0.77</td>\n",
       "      <td>31.80</td>\n",
       "      <td>1.34</td>\n",
       "      <td>7.57</td>\n",
       "    </tr>\n",
       "    <tr>\n",
       "      <th>1</th>\n",
       "      <td>0.002740</td>\n",
       "      <td>1.27</td>\n",
       "      <td>29.94</td>\n",
       "      <td>2.47</td>\n",
       "      <td>6.83</td>\n",
       "    </tr>\n",
       "    <tr>\n",
       "      <th>2</th>\n",
       "      <td>0.005479</td>\n",
       "      <td>1.87</td>\n",
       "      <td>28.00</td>\n",
       "      <td>2.80</td>\n",
       "      <td>6.95</td>\n",
       "    </tr>\n",
       "    <tr>\n",
       "      <th>3</th>\n",
       "      <td>0.008219</td>\n",
       "      <td>0.42</td>\n",
       "      <td>28.89</td>\n",
       "      <td>2.79</td>\n",
       "      <td>6.27</td>\n",
       "    </tr>\n",
       "    <tr>\n",
       "      <th>4</th>\n",
       "      <td>0.010959</td>\n",
       "      <td>-1.03</td>\n",
       "      <td>29.75</td>\n",
       "      <td>1.91</td>\n",
       "      <td>6.05</td>\n",
       "    </tr>\n",
       "  </tbody>\n",
       "</table>\n",
       "</div>"
      ],
      "text/plain": [
       "       Data  Temperatura  Wilogtność powietrza  Prędkość wiatru  Zachmurzenie\n",
       "0  0.000000        -0.77                 31.80             1.34          7.57\n",
       "1  0.002740         1.27                 29.94             2.47          6.83\n",
       "2  0.005479         1.87                 28.00             2.80          6.95\n",
       "3  0.008219         0.42                 28.89             2.79          6.27\n",
       "4  0.010959        -1.03                 29.75             1.91          6.05"
      ]
     },
     "execution_count": 336,
     "metadata": {},
     "output_type": "execute_result"
    }
   ],
   "source": [
    "features.head()"
   ]
  },
  {
   "cell_type": "code",
   "execution_count": 337,
   "id": "6f73854d-f0e6-4ee3-849b-cd739bf030e2",
   "metadata": {},
   "outputs": [
    {
     "data": {
      "text/plain": [
       "0    15098.40\n",
       "1    17869.20\n",
       "2    17684.92\n",
       "3    16453.76\n",
       "4    18856.44\n",
       "Name: Rzeczywiste zapotrzebowanie KSE, dtype: float64"
      ]
     },
     "execution_count": 337,
     "metadata": {},
     "output_type": "execute_result"
    }
   ],
   "source": [
    "labels.head()"
   ]
  },
  {
   "cell_type": "markdown",
   "id": "0f31a48e-370e-48c7-b483-e9ef1f6c651c",
   "metadata": {},
   "source": [
    "### Definiowanie warstw"
   ]
  },
  {
   "cell_type": "code",
   "execution_count": 356,
   "id": "5e80a3e7-ed70-4fe5-95e4-389f7c5ff1b4",
   "metadata": {},
   "outputs": [],
   "source": [
    "leaky_relu_alpha = 0.2\n",
    "learning_rate = 0.003\n",
    "\n",
    "def dense( inputs , weights ):\n",
    "    '''\n",
    "        tf.nn.leaky_relu: Leaky version of a Rectified Linear Unit.\n",
    "                          A leaky ReLU layer performs a threshold operation, \n",
    "                          where any input value less than zero is multiplied by a fixed scalar.\n",
    "        tf.nn.dropout:    Computes dropout: randomly sets elements to zero to prevent overfitting.\n",
    "        tf.matmul:        Multiplies matrix a by matrix b, producing a * b.\n",
    "    '''\n",
    "    x = tf.nn.leaky_relu( tf.matmul( inputs , weights ) , alpha=leaky_relu_alpha )\n",
    "    return x #tf.nn.dropout( x , rate=dropout_rate )"
   ]
  },
  {
   "cell_type": "markdown",
   "id": "d4047a10-ae41-493e-80aa-69a7b5151717",
   "metadata": {},
   "source": [
    "### Inicializowanie sieci"
   ]
  },
  {
   "cell_type": "code",
   "execution_count": 367,
   "id": "f1e20f58-191d-4b87-b27c-1fcd9778951e",
   "metadata": {},
   "outputs": [],
   "source": [
    "# Initialiser creates tensor of numbers with uniform distribution\n",
    "initializer = tf.initializers.glorot_uniform()\n",
    "\n",
    "def get_weight( shape , name ):\n",
    "    # tf.Variable changes a tensor into a variable\n",
    "    return tf.Variable( initializer( shape ) , name=name , trainable=True , dtype=tf.float32 )"
   ]
  },
  {
   "cell_type": "markdown",
   "id": "f7b3ac4e-020a-4ddf-b939-febca1392247",
   "metadata": {},
   "source": [
    "<i><b>shapes</b></i> tutaj oznacza, że warstwy gęste mają kolejno 5 (input), 10 i 1 (output) neuron"
   ]
  },
  {
   "cell_type": "code",
   "execution_count": 422,
   "id": "00d23c41-21d6-47e8-8839-083c00b3dd47",
   "metadata": {},
   "outputs": [],
   "source": [
    "shapes = [\n",
    "    [ 5 , 10 ] , \n",
    "    [ 10 , 1 ] ,\n",
    "]\n",
    "\n",
    "weights = []\n",
    "for i in range( len( shapes ) ):\n",
    "    weights.append( get_weight( shapes[ i ] , 'weight{}'.format( i ) ) )"
   ]
  },
  {
   "cell_type": "markdown",
   "id": "cd9659e8-38da-4d1a-b350-173180d066f8",
   "metadata": {},
   "source": [
    "### Tworzenie modelu\n",
    "Składa się on z warstwy wejściowej, kilku warstw gęstych i warstwy wyjściowej"
   ]
  },
  {
   "cell_type": "code",
   "execution_count": 341,
   "id": "6d9dde89-3b3e-461c-a1dd-1c7450bbc8b3",
   "metadata": {},
   "outputs": [],
   "source": [
    "def model( x ) :\n",
    "    x = tf.cast( x , dtype=tf.float32 ) # Rzutowanie tensora na float32\n",
    "    \n",
    "    d1 = dense(  x , weights[ 0 ] )\n",
    "    \n",
    "    logits = tf.matmul( d1 , weights[ 1 ] )\n",
    "    \n",
    "    return logits"
   ]
  },
  {
   "cell_type": "markdown",
   "id": "138ec063-16ac-4efc-82c2-ae393169d1bf",
   "metadata": {},
   "source": [
    "### Uczenie modelu"
   ]
  },
  {
   "cell_type": "markdown",
   "id": "2aa52f82-b930-4985-bf29-0ce4fe0af932",
   "metadata": {},
   "source": [
    "funkcja błędu"
   ]
  },
  {
   "cell_type": "code",
   "execution_count": 342,
   "id": "4e6636ca-edee-4e9b-aa47-99c15db8c63b",
   "metadata": {},
   "outputs": [],
   "source": [
    "def loss( pred , target ):\n",
    "    return tf.losses.mean_squared_error( target , pred )"
   ]
  },
  {
   "cell_type": "code",
   "execution_count": 343,
   "id": "5c5d762d-1051-4580-a0d4-dceb7b8e390f",
   "metadata": {},
   "outputs": [],
   "source": [
    "optimizer = tf.optimizers.Adam( learning_rate )\n",
    "\n",
    "'''\n",
    "    GradientTape służy do wyznaczania gradientu\n",
    "    Optimiser służy do aktualizowania wag sieci w zależności od gradientu\n",
    "'''\n",
    "\n",
    "def train_step( model, inputs , outputs ):\n",
    "    with tf.GradientTape() as tape:\n",
    "        current_loss = loss( model( inputs ), outputs)\n",
    "    grads = tape.gradient( current_loss , weights )\n",
    "    optimizer.apply_gradients( zip( grads , weights ) )\n",
    "    return np.matrix(current_loss)[0,0]"
   ]
  },
  {
   "cell_type": "code",
   "execution_count": 432,
   "id": "c77ae5b6-28ac-4cf1-94ea-c550f0a6a58e",
   "metadata": {
    "tags": []
   },
   "outputs": [
    {
     "name": "stdout",
     "output_type": "stream",
     "text": [
      "Epoch  1: |██████████████████████████████████████████████████| 100.0% Complete, Loss: 9619718.0\n",
      "\n",
      "Epoch  2: |██████████████████████████████████████████████████| 100.0% Complete, Loss: 9369865.0\n",
      "\n",
      "Epoch  3: |██████████████████████████████████████████████████| 100.0% Complete, Loss: 9237627.0\n",
      "\n",
      "Epoch  4: |██████████████████████████████████████████████████| 100.0% Complete, Loss: 9148283.0\n",
      "\n",
      "Epoch  5: |██████████████████████████████████████████████████| 100.0% Complete, Loss: 9080030.0\n",
      "\n",
      "Epoch  6: |██████████████████████████████████████████████████| 100.0% Complete, Loss: 9024131.0\n",
      "\n",
      "Epoch  7: |██████████████████████████████████████████████████| 100.0% Complete, Loss: 8976358.0\n",
      "\n",
      "Epoch  8: |██████████████████████████████████████████████████| 100.0% Complete, Loss: 8934390.0\n",
      "\n",
      "Epoch  9: |██████████████████████████████████████████████████| 100.0% Complete, Loss: 8896826.0\n",
      "\n",
      "Epoch 10: |██████████████████████████████████████████████████| 100.0% Complete, Loss: 8862758.0\n",
      "\n",
      "Epoch 11: |██████████████████████████████████████████████████| 100.0% Complete, Loss: 8831560.0\n",
      "\n",
      "Epoch 12: |██████████████████████████████████████████████████| 100.0% Complete, Loss: 8802778.0\n",
      "\n",
      "Epoch 13: |██████████████████████████████████████████████████| 100.0% Complete, Loss: 8776072.0\n",
      "\n",
      "Epoch 14: |██████████████████████████████████████████████████| 100.0% Complete, Loss: 8751178.0\n",
      "\n",
      "Epoch 15: |██████████████████████████████████████████████████| 100.0% Complete, Loss: 8727882.0\n",
      "\n",
      "Epoch 16: |██████████████████████████████████████████████████| 100.0% Complete, Loss: 8706012.0\n",
      "\n",
      "Epoch 17: |██████████████████████████████████████████████████| 100.0% Complete, Loss: 8685422.0\n",
      "\n",
      "Epoch 18: |██████████████████████████████████████████████████| 100.0% Complete, Loss: 8665989.0\n",
      "\n",
      "Epoch 19: |██████████████████████████████████████████████████| 100.0% Complete, Loss: 8647609.0\n",
      "\n",
      "Epoch 20: |██████████████████████████████████████████████████| 100.0% Complete, Loss: 8630187.0\n",
      "\n",
      "Epoch 21: |██████████████████████████████████████████████████| 100.0% Complete, Loss: 8613646.0\n",
      "\n",
      "Epoch 22: |██████████████████████████████████████████████████| 100.0% Complete, Loss: 8597912.0\n",
      "\n",
      "Epoch 23: |██████████████████████████████████████████████████| 100.0% Complete, Loss: 8582922.0\n",
      "\n",
      "Epoch 24: |██████████████████████████████████████████████████| 100.0% Complete, Loss: 8568620.0\n",
      "\n",
      "Epoch 25: |██████████████████████████████████████████████████| 100.0% Complete, Loss: 8554955.0\n",
      "\n",
      "Epoch 26: |██████████████████████████████████████████████████| 100.0% Complete, Loss: 8541879.0\n",
      "\n",
      "Epoch 27: |██████████████████████████████████████████████████| 100.0% Complete, Loss: 8529352.0\n",
      "\n",
      "Epoch 28: |██████████████████████████████████████████████████| 100.0% Complete, Loss: 8517335.0\n",
      "\n",
      "Epoch 29: |██████████████████████████████████████████████████| 100.0% Complete, Loss: 8505793.0\n",
      "\n",
      "Epoch 30: |██████████████████████████████████████████████████| 100.0% Complete, Loss: 8494695.0\n",
      "\n",
      "Epoch 31: |██████████████████████████████████████████████████| 100.0% Complete, Loss: 8484011.0\n",
      "\n",
      "Epoch 32: |██████████████████████████████████████████████████| 100.0% Complete, Loss: 8473716.0\n",
      "\n",
      "Epoch 33: |██████████████████████████████████████████████████| 100.0% Complete, Loss: 8463783.0\n",
      "\n",
      "Epoch 34: |██████████████████████████████████████████████████| 100.0% Complete, Loss: 8454191.0\n",
      "\n",
      "Epoch 35: |██████████████████████████████████████████████████| 100.0% Complete, Loss: 8444918.0\n",
      "\n",
      "Epoch 36: |██████████████████████████████████████████████████| 100.0% Complete, Loss: 8435946.0\n",
      "\n",
      "Epoch 37: |██████████████████████████████████████████████████| 100.0% Complete, Loss: 8427256.0\n",
      "\n",
      "Epoch 38: |██████████████████████████████████████████████████| 100.0% Complete, Loss: 8418832.0\n",
      "\n",
      "Epoch 39: |██████████████████████████████████████████████████| 100.0% Complete, Loss: 8410659.0\n",
      "\n",
      "Epoch 40: |██████████████████████████████████████████████████| 100.0% Complete, Loss: 8402723.0\n",
      "\n",
      "Epoch 41: |██████████████████████████████████████████████████| 100.0% Complete, Loss: 8395009.0\n",
      "\n",
      "Epoch 42: |██████████████████████████████████████████████████| 100.0% Complete, Loss: 8387507.0\n",
      "\n",
      "Epoch 43: |██████████████████████████████████████████████████| 100.0% Complete, Loss: 8380205.0\n",
      "\n",
      "Epoch 44: |██████████████████████████████████████████████████| 100.0% Complete, Loss: 8373091.5\n",
      "\n",
      "Epoch 45: |██████████████████████████████████████████████████| 100.0% Complete, Loss: 8366157.0\n",
      "\n",
      "Epoch 46: |██████████████████████████████████████████████████| 100.0% Complete, Loss: 8359393.0\n",
      "\n",
      "Epoch 47: |██████████████████████████████████████████████████| 100.0% Complete, Loss: 8352789.5\n",
      "\n",
      "Epoch 48: |██████████████████████████████████████████████████| 100.0% Complete, Loss: 8346339.5\n",
      "\n",
      "Epoch 49: |██████████████████████████████████████████████████| 100.0% Complete, Loss: 8340035.0\n",
      "\n",
      "Epoch 50: |██████████████████████████████████████████████████| 100.0% Complete, Loss: 8333868.5\n",
      "\n"
     ]
    }
   ],
   "source": [
    "from statistics import mean\n",
    "\n",
    "num_epochs = 30\n",
    "error_batch_size = 10\n",
    "\n",
    "errors_train = []\n",
    "errors_test= []\n",
    "\n",
    "batch_err_train = []\n",
    "batch_err_test = []\n",
    "\n",
    "# Trenujemy naszą sieć num_epochs razy na tym samym zbiorze trenującym\n",
    "for e in range( num_epochs ):\n",
    "    i=0\n",
    "    j=0\n",
    "    for feature_train, label_train in zip(features_train.iloc, labels_train):\n",
    "        \n",
    "        # Tu zapisujemy wartości funkcji błędu, żeby później analizować uczenie\n",
    "        batch_err_train.append( \n",
    "            train_step( \n",
    "                model , \n",
    "                np.matrix(feature_train.values) , \n",
    "                np.matrix(label_train) \n",
    "            )\n",
    "        )\n",
    "        \n",
    "        '''\n",
    "            Żeby wykres był mniej chaotyczny, zbieramy średnią z \n",
    "            error_batch_size wartości zamiast wysować każdą wartość\n",
    "        '''\n",
    "        if len(batch_err_train) == len(labels_train) // error_batch_size:\n",
    "            errors_train.append( mean(batch_err_train) )\n",
    "            batch_err_train = []\n",
    "           \n",
    "        '''\n",
    "            Jako, że zbiór testowy jest o wiele mniejszy, niż zbiór uczący,\n",
    "            żeby zrównoleglić uczenie i testowanie, należy testować raz na \n",
    "            len(labels_train) // len(labels_test) kroków uczących\n",
    "        '''\n",
    "        if i % round(len(labels_train) / len(labels_test)) == 0:\n",
    "            feature_test, label_test = features_test.iloc[j], labels_test[j]\n",
    "            j+=1\n",
    "            \n",
    "            batch_err_test.append( np.matrix(loss( model(np.matrix(feature_test.values)), np.matrix(label_test) ))[0,0])\n",
    "            if len(batch_err_test) == len(labels_test) // error_batch_size:\n",
    "                errors_test.append(mean(batch_err_test))\n",
    "                batch_err_test = []\n",
    "        \n",
    "        # funkcja rysująca pasek ładowania\n",
    "        printProgressBar(i+1, len(labels_train), prefix = f'Epoch {e+1:2d}:', suffix = f'Complete, Loss: {mean(errors_train+batch_err_train)}', length = 50)\n",
    "        \n",
    "        i += 1\n",
    "        \n",
    "    # gdyby lista się nie zapełniła do końca, trzeba dodać resztę\n",
    "    if len(batch_err_train) > 0: \n",
    "        errors_train.append( mean(batch_err_train) )\n",
    "        batch_err_train = []\n",
    "        \n",
    "    if len(batch_err_test) > 0: \n",
    "        errors_test.append( mean(batch_err_test) )\n",
    "        batch_err_test = []\n",
    "        \n",
    "    print()"
   ]
  },
  {
   "cell_type": "code",
   "execution_count": 433,
   "id": "f00a9301-143c-47d7-82b3-6c6308c46520",
   "metadata": {},
   "outputs": [
    {
     "data": {
      "image/png": "[encoded data removed]",
      "text/plain": [
       "<Figure size 432x288 with 1 Axes>"
      ]
     },
     "metadata": {
      "needs_background": "light"
     },
     "output_type": "display_data"
    }
   ],
   "source": [
    "plt.plot(errors_test, label=\"test\", color=\"orange\")\n",
    "plt.plot(errors_train, label=\"train\", color=\"blue\")\n",
    "\n",
    "plt.legend()\n",
    "\n",
    "plt.title(\"Model's loss\")\n",
    "plt.show()"
   ]
  },
  {
   "cell_type": "markdown",
   "id": "0d6fba02-bd89-43bb-a20c-ed8ef5e2c879",
   "metadata": {},
   "source": [
    "Pomimo, że błąd jest wciąż duży, to sieć osiąga lokalne minimum."
   ]
  },
  {
   "cell_type": "code",
   "execution_count": 434,
   "id": "872fd3db-3688-4b42-916c-735f3483206e",
   "metadata": {},
   "outputs": [],
   "source": [
    "pd.DataFrame(weights[0].numpy()).to_csv(\"weights_layer_1.csv\")\n",
    "pd.DataFrame(weights[1].numpy()).to_csv(\"weights_layer_2.csv\")"
   ]
  }
 ],
 "metadata": {
  "kernelspec": {
   "display_name": "Python 3",
   "language": "python",
   "name": "python3"
  },
  "language_info": {
   "codemirror_mode": {
    "name": "ipython",
    "version": 3
   },
   "file_extension": ".py",
   "mimetype": "text/x-python",
   "name": "python",
   "nbconvert_exporter": "python",
   "pygments_lexer": "ipython3",
   "version": "3.7.9"
  }
 },
 "nbformat": 4,
 "nbformat_minor": 5
}
